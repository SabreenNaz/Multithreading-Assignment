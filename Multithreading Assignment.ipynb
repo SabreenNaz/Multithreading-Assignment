{
 "cells": [
  {
   "cell_type": "markdown",
   "id": "847adbb7-db76-4977-981e-bb4bb638709c",
   "metadata": {},
   "source": [
    "What is multithreading in python? Why is it used? Name the module used to handle threads in python"
   ]
  },
  {
   "cell_type": "markdown",
   "id": "7b8a162f-fd2f-4d87-9b81-afab94e429a1",
   "metadata": {},
   "source": [
    "#Answer\n",
    "\n",
    "Multithreading in Python refers to the concurrent execution of multiple threads within the same program. A thread is the smallest unit of execution in a process, and multithreading allows different threads to execute independently, sharing the same resources such as memory space. Python provides a built-in threading module to handle threads\n",
    "\n",
    "\n",
    "\n",
    "Why Multithreading is Used:\n",
    "\n",
    "1. Parallel Execution: Multithreading allows different parts of a program to run concurrently, enabling parallel execution of tasks. This is particularly useful for improving the performance of CPU-bound or I/O-bound operations.\n",
    "\n",
    "2. Concurrency: Multithreading is used to achieve concurrency, where multiple threads make progress in overlapping time intervals. This is beneficial for tasks that involve waiting for external resources, such as file I/O or network operations.\n",
    "\n",
    "3. Responsive User Interfaces: In graphical user interface (GUI) applications, multithreading helps in keeping the user interface responsive while performing background tasks.\n",
    "\n",
    "4. Resource Utilization: Multithreading can improve resource utilization by allowing multiple tasks to run concurrently, making better use of available CPU resources.\n",
    "\n",
    "\n",
    "Module Used to Handle Threads:\n",
    "\n",
    "The 'threading' module is used to handle threads in Python. It provides a high-level interface for creating and managing threads."
   ]
  },
  {
   "cell_type": "markdown",
   "id": "d768ab2e-88b4-43b3-a1dd-6c72edbb4923",
   "metadata": {},
   "source": [
    "                      -------------------------------------------------------------------"
   ]
  },
  {
   "cell_type": "markdown",
   "id": "fd24fa8f-1420-4ffa-a590-810d32626b63",
   "metadata": {},
   "source": [
    "Q.2 Why threading module used? write the use of the following functions\n",
    "\n",
    "1. activeCount()\n",
    "\n",
    "2. currentThread()\n",
    "\n",
    "3. enumerate()"
   ]
  },
  {
   "cell_type": "markdown",
   "id": "70599e6f-0ade-4fc2-9e99-9c8a5a404edf",
   "metadata": {},
   "source": [
    "#Answer\n",
    "\n",
    "The threading module in Python is used for creating and managing threads. It provides a high-level interface for working with threads, making it easier to write concurrent and parallel programs. Here's an explanation of the functions you mentioned:\n",
    "\n",
    "1. activeCount():\n",
    "\n",
    "* Use: Returns the number of Thread objects currently alive.\n",
    "* Explanation: This function provides the count of all active threads currently running in the program. It's useful for monitoring the number of threads and can be used to ensure that all threads have completed before proceeding or for any other monitoring purposes.\n",
    "\n",
    "\n",
    "2. currentThread():\n",
    "\n",
    "* Use: Returns the current Thread object corresponding to the caller's thread of control.\n",
    "* Explanation: This function returns the Thread object representing the current thread. It allows you to obtain information about the currently executing thread, such as its name or identification.\n",
    "\n",
    "\n",
    "3. enumerate():\n",
    "\n",
    "* Use: Returns a list of all Thread objects currently alive.\n",
    "* Explanation: This function returns a list of all active Thread objects. It's a convenient way to get a snapshot of all running threads, which can be useful for monitoring, debugging, or managing the threads.\n",
    "\n",
    "In summary, these functions from the threading module are useful for managing and obtaining information about threads in a multithreaded Python program."
   ]
  },
  {
   "cell_type": "markdown",
   "id": "61e7fe27-1fe2-442b-9990-ddf2b4958328",
   "metadata": {},
   "source": [
    "                      -------------------------------------------------------------------"
   ]
  },
  {
   "cell_type": "markdown",
   "id": "ee58e8fc-6392-4da0-a0c9-2443f93e661c",
   "metadata": {},
   "source": [
    "3. Explain the following functions\n",
    "\n",
    "1. run()\n",
    "2. start()\n",
    "3. join()\n",
    "4. isAlive() "
   ]
  },
  {
   "cell_type": "markdown",
   "id": "942c5063-0dcc-4041-8c9f-d23eaa9f2dfb",
   "metadata": {},
   "source": [
    "#Answer\n",
    "\n",
    "The mentioned functions—run(), start(), join(), and isAlive()—are commonly used for managing and working with threads. Here's an explanation of each:\n",
    "\n",
    "1. run():\n",
    "\n",
    "* Use: This method is called when the thread's 'start()' method is invoked.\n",
    "* Explanation: When a Thread object is created and its 'start()' method is called, the 'run()' method is executed in a new thread. The 'run()' method contains the code that defines the behavior of the thread. By default, the 'run()' method does nothing. However, you can subclass the Thread class and override the 'run()' method to define the behavior of the thread.\n",
    "\n",
    "\n",
    "2. start():\n",
    "\n",
    "* Use: Initiates the thread's activity.\n",
    "* Explanation: The 'start()' method begins the execution of the thread. It creates a new system-level thread and invokes the 'run()' method in that separate thread. It's essential to use 'start()' instead of directly calling 'run()' to ensure that the thread runs in a separate execution context\n",
    "\n",
    "\n",
    "3. join():\n",
    "\n",
    "* Use: Waits for the thread to complete its execution.\n",
    "* Explanation: The 'join()' method blocks the calling thread until the thread whose 'join()' method is called completes its execution. This is useful when you want to ensure that a thread has finished before proceeding with the rest of the program\n",
    "\n",
    "\n",
    "4. isAlive():\n",
    "\n",
    "* Use: Returns 'True' if the thread is still alive (i.e., has not finished its execution), and 'False' otherwise.\n",
    "* Explanation: The 'isAlive()' method provides a way to check whether a thread is still running. It returns 'True' if the thread is still active and False if the thread has completed its execution.\n",
    "\n",
    "\n",
    "These functions are fundamental for managing the lifecycle and behavior of threads in a multithreaded program."
   ]
  },
  {
   "cell_type": "markdown",
   "id": "ab68aa9b-06e7-48ba-9454-ab662e3c7fc2",
   "metadata": {},
   "source": [
    "                      -------------------------------------------------------------------"
   ]
  },
  {
   "cell_type": "markdown",
   "id": "603d8454-0f91-4c58-9047-9330eaa2c9b0",
   "metadata": {},
   "source": [
    "4. write a python program to create two threads. Thread one must print the list of squares and thread\n",
    "two must print the list of cubes"
   ]
  },
  {
   "cell_type": "code",
   "execution_count": 7,
   "id": "4c5c4a9a-666c-447f-a6ba-bbd0e82cff7b",
   "metadata": {},
   "outputs": [
    {
     "name": "stdout",
     "output_type": "stream",
     "text": [
      "Square of 1 is 1\n",
      "Square of 2 is 4\n",
      "Square of 3 is 9\n",
      "Square of 4 is 16\n",
      "Square of 5 is 25\n",
      "Square of 6 is 36\n",
      "Square of 7 is 49\n",
      "Square of 8 is 64\n",
      "Square of 9 is 81\n",
      "Cube of 1 is 1\n",
      "Cube of 2 is 8\n",
      "Cube of 3 is 27\n",
      "Cube of 4 is 64\n",
      "Cube of 5 is 125\n",
      "Cube of 6 is 216\n",
      "Cube of 7 is 343\n",
      "Cube of 8 is 512\n",
      "Cube of 9 is 729\n"
     ]
    }
   ],
   "source": [
    "#Answer\n",
    "\n",
    "import threading\n",
    "\n",
    "\n",
    "numbers = [1,2,3,4,5,6,7,8,9]\n",
    "\n",
    "def print_square():\n",
    "    for number in numbers:\n",
    "        print(f\"Square of {number} is {number**2}\")\n",
    "        \n",
    "        \n",
    "        \n",
    "def print_cube():\n",
    "    for number in numbers:\n",
    "        print(f\"Cube of {number} is {number**3}\")\n",
    "        \n",
    "thread1 = threading.Thread(target=print_sqares)\n",
    "thread2 = threading.Thread(target=print_cube)\n",
    "\n",
    "\n",
    "thread1.start()\n",
    "thread2.start()\n",
    "\n",
    "thread1.join()\n",
    "thread2.join()"
   ]
  },
  {
   "cell_type": "markdown",
   "id": "cefbaf43-6ff9-49ad-b189-2a56c6f188e8",
   "metadata": {},
   "source": [
    "                      -------------------------------------------------------------------"
   ]
  },
  {
   "cell_type": "markdown",
   "id": "d83dbde1-120b-428e-9820-73b17987c381",
   "metadata": {},
   "source": [
    "5. State advantages and disadvantages of multithreading"
   ]
  },
  {
   "cell_type": "markdown",
   "id": "b5b274af-1dc6-4377-ad73-80167787f8dd",
   "metadata": {},
   "source": [
    "#Answer\n",
    "\n",
    "Multithreading, the concurrent execution of multiple threads within a single process, comes with its own set of advantages and disadvantages.\n",
    "\n",
    "1. Advantages of Multithreading:\n",
    "\n",
    "a. Improved Performance:\n",
    "\n",
    "Multithreading can lead to improved performance by allowing multiple tasks to execute concurrently. This is especially beneficial in systems with multiple processors or cores\n",
    "\n",
    "b. Resource Sharing:\n",
    "\n",
    "Threads within a process share the same resources, such as memory space. This allows for efficient communication between threads and avoids the overhead of inter-process communication\n",
    "\n",
    "\n",
    "c. Responsiveness:\n",
    "\n",
    "Multithreading can enhance the responsiveness of applications, particularly in user interfaces. While one thread is waiting for an I/O operation, another thread can continue processing tasks\n",
    "\n",
    "\n",
    "d. Parallelism:\n",
    "\n",
    "Multithreading allows for parallelism, enabling the simultaneous execution of multiple tasks. This is useful for computationally intensive operations that can be divided into smaller subtasks\n",
    "\n",
    "e. Resource Utilization:\n",
    "\n",
    "Efficient utilization of resources, as threads can execute independently, making better use of available resources.\n",
    "\n",
    "\n",
    "2. Disadvantages of Multithreading:\n",
    "\n",
    "\n",
    "a. Complexity:\n",
    "\n",
    "Multithreading introduces complexity, making program design and debugging more challenging. Coordination and synchronization between threads are critical to avoid issues like race conditions and deadlocks\n",
    "\n",
    "\n",
    "b. Synchronization Overhead:\n",
    "\n",
    "When multiple threads access shared resources, synchronization mechanisms (e.g., locks, semaphores) are required to prevent data corruption. This introduces overhead and can lead to performance issues\n",
    "\n",
    "c. Difficulty in Debugging:\n",
    "\n",
    "Debugging multithreaded applications is more complex. Race conditions and other concurrency-related bugs can be challenging to identify and reproduce\n",
    "\n",
    "\n",
    "d. Portability Issues:\n",
    "\n",
    "Some threading libraries and features may not be portable across different platforms or operating systems, making it harder to write platform-independent code\n",
    "\n",
    "\n",
    "e. Scalability Limits:\n",
    "\n",
    "While multithreading can improve performance on multi-core systems, there is a limit to the scalability of threads. Excessive threading may lead to diminishing returns or even performance degradation.\n"
   ]
  },
  {
   "cell_type": "markdown",
   "id": "4bd56842-96dd-463e-9a53-abe5f7acc2c6",
   "metadata": {},
   "source": [
    "                       -------------------------------------------------------------------"
   ]
  },
  {
   "cell_type": "markdown",
   "id": "e5cfcd8a-e250-42a7-8424-c3a5f8fe7a69",
   "metadata": {},
   "source": [
    "6. Explain deadlocks and race conditions."
   ]
  },
  {
   "cell_type": "markdown",
   "id": "70e3e86d-ac27-412d-93b3-2e2b81eb427d",
   "metadata": {},
   "source": [
    "#Answer\n",
    "\n",
    "\n",
    "* Deadlocks:\n",
    "\n",
    "A deadlock is a situation in a multithreaded or multiprocess environment where two or more threads or processes are unable to proceed because each is waiting for the other to release a resource. Deadlocks can occur in systems that use resource locking mechanisms to control access to shared resources.\n",
    "\n",
    "There are four necessary conditions for a deadlock to occur, often known as the Coffman conditions:\n",
    "\n",
    "* Mutual Exclusion:\n",
    "\n",
    "At least one resource must be held in a non-sharable mode, meaning only one thread or process can use it at a time.\n",
    "\n",
    "\n",
    "* Hold and Wait:\n",
    "\n",
    "A thread or process must be holding at least one resource and waiting to acquire additional resources that are currently held by other threads or processes\n",
    "\n",
    "\n",
    "* No Preemption:\n",
    "\n",
    "Resources cannot be forcibly taken away from a thread or process; they must be released voluntarily.\n",
    "\n",
    "\n",
    "* Circular Wait:\n",
    "\n",
    "There must exist a circular chain of two or more threads, each waiting for a resource held by the next thread in the chain.\n",
    "To prevent deadlocks, one or more of these conditions must not hold. Strategies to avoid deadlocks include careful resource allocation, using a timeout mechanism, and employing deadlock detection and recovery algorithms.\n",
    "\n",
    "2. Race Conditions:\n",
    "\n",
    "A race condition is a situation in which the behavior of a program depends on the relative timing of events, such as the order of execution of threads. It arises when multiple threads access shared data concurrently, and at least one of them modifies the data. The outcome of the program becomes unpredictable and may depend on the timing and scheduling of thread execution.\n",
    "\n",
    "Race conditions often occur in the absence of proper synchronization mechanisms, such as locks or semaphores, leading to issues like data corruption, unexpected behavior, or program crashes.\n"
   ]
  },
  {
   "cell_type": "markdown",
   "id": "c195c9bd-aba6-49ad-a195-6b541eb54fb2",
   "metadata": {},
   "source": [
    "                        -------------------------------------------------------------------"
   ]
  }
 ],
 "metadata": {
  "kernelspec": {
   "display_name": "Python 3 (ipykernel)",
   "language": "python",
   "name": "python3"
  },
  "language_info": {
   "codemirror_mode": {
    "name": "ipython",
    "version": 3
   },
   "file_extension": ".py",
   "mimetype": "text/x-python",
   "name": "python",
   "nbconvert_exporter": "python",
   "pygments_lexer": "ipython3",
   "version": "3.10.8"
  }
 },
 "nbformat": 4,
 "nbformat_minor": 5
}
